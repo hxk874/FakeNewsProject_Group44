{
 "cells": [
  {
   "cell_type": "code",
   "execution_count": null,
   "metadata": {},
   "outputs": [],
   "source": [
    "import pandas as pd\n",
    "import numpy as np\n",
    "import matplotlib.pyplot as plt\n",
    "import matplotlib.pylab as plt\n",
    "\n",
    "from sklearn.model_selection import train_test_split\n",
    "from sklearn.metrics import classification_report, accuracy_score, precision_score, recall_score, confusion_matrix, f1_score, r2_score\n",
    "from sklearn.linear_model import LinearRegression, LogisticRegression\n",
    "from sklearn.neural_network import MLPRegressor, MLPClassifier\n",
    "\n",
    "from sklearn.feature_extraction.text import CountVectorizer, TfidfVectorizer\n",
    "from sklearn.feature_selection import *\n",
    "\n",
    "from sklearn.neighbors import KNeighborsRegressor, KNeighborsClassifier\n",
    "from sklearn.preprocessing import StandardScaler\n",
    "from sklearn.naive_bayes import MultinomialNB\n",
    "from sklearn.pipeline import Pipeline\n",
    "from sklearn.ensemble import RandomForestClassifier\n",
    "from sklearn.svm import LinearSVC\n",
    "from sklearn.tree import *\n",
    "\n",
    "import time\n",
    "\n",
    "import re\n",
    "import csv\n",
    "import string\n",
    "\n",
    "import nltk\n",
    "from nltk.tokenize import word_tokenize\n",
    "from nltk.corpus import stopwords\n",
    "from nltk.stem.snowball import SnowballStemmer\n",
    "\n",
    "import itertools\n",
    "\n",
    "nltk.download('punkt')\n",
    "nltk.download('stopwords')\n",
    "stemmer = SnowballStemmer(\"english\")\n",
    "\n",
    "# Reading 1 million samples\n",
    "url_1mil = '1mil_23032023.csv'  \n",
    "df_1mil = pd.read_csv(url_1mil, usecols=['domain', 'type', 'content'])"
   ]
  },
  {
   "cell_type": "code",
   "execution_count": null,
   "metadata": {},
   "outputs": [],
   "source": [
    "def clean_text(text):\n",
    "    text = text.replace('\\n', '')\n",
    "    text = text.replace('  ', '')\n",
    "    text = text.lower()\n",
    "\n",
    "    text = re.sub(r'(\\´)|(\\`)|(\\')|(\\\")|(\\“)|(\\”)', '', text)\n",
    "    replace = re.sub(\"http\\S+|www\\S+\", '<URL>', text)\n",
    "    replace = re.sub(r'\\S+@+\\S+\\.+\\S', 'EMAIL', replace)\n",
    "    replace = re.sub(r'\\S+\\.com\\S', 'URL', replace)\n",
    "    replace = re.sub(r'(\\d{4}/\\d{2}/\\d{2} \\d{2}\\:\\d{2}\\:\\d{2}\\.\\d)|(\\d{4}-\\d{2}-\\d{2} \\d{2}\\:\\d{2}\\:\\d{2}\\.\\d)', 'DATE', replace)\n",
    "    replace = re.sub(r'\\d{2}\\:\\d{2}\\:\\d{2}\\.\\d', 'TIME', replace)\n",
    "    replace = re.sub(r'\\d+,?\\.?\\d*\\.?\\d*', 'NUM', replace)\n",
    "    replace = re.sub(r'(\\-)|(\\—)', '', replace)\n",
    "    \n",
    "    # remove punctuation\n",
    "    nopunc = [char for char in replace if char not in string.punctuation] # !\"#$%&'()*+, -./:;<=>?@[\\]^_`{|}~\n",
    "    nopunc = ''.join(nopunc)\n",
    "    \n",
    "    # remove stopwords and return to list\n",
    "    clean_words = [word for word in nopunc.split() if word not in stopwords.words('english')]\n",
    "    cleaned = [stemmer.stem(word) for word in clean_words]\n",
    "    return cleaned\n",
    "\n",
    "def sorting_df(df):\n",
    "    df.dropna(axis=0, inplace=True) # Fjern NaN\n",
    "    df.drop(df[df['type'] == 'unknown'].index, inplace = True) # drop unknown\n",
    "    df.drop(df[df['type'] == 'rumor'].index, inplace = True) # fjerner fordi den ikke er på Github-listen\n",
    "    df.drop_duplicates(subset=['content'], keep='first', inplace=True) # fjerner duplikater\n",
    "\n",
    "    fake_group = ['fake','satire','bias','conspiracy','junksci','hate','unreliable']\n",
    "    df['type_binary'] = df['type'].isin(fake_group)\n",
    "    df['type_binary'] = df['type_binary'].astype(int) # define types\n",
    "    return df\n",
    "\n",
    "# Testing clean_text on 250 samples\n",
    "def process(dataframe):\n",
    "    df = sorting_df(dataframe)\n",
    "    df['content'] = df['content'].apply(clean_text)\n",
    "    return df"
   ]
  },
  {
   "cell_type": "code",
   "execution_count": null,
   "metadata": {},
   "outputs": [],
   "source": [
    "# Split into chunks of 100K.\n",
    "\n",
    "df_1 = df_1mil.loc[0:100000]\n",
    "df_2 = df_1mil.loc[100001:200000]\n",
    "df_3 = df_1mil.loc[200001:300000]\n",
    "df_4 = df_1mil.loc[300001:400000]\n",
    "df_5 = df_1mil.loc[400001:500000]\n",
    "df_6 = df_1mil.loc[500001:600000]\n",
    "df_7 = df_1mil.loc[600001:700000]\n",
    "df_8 = df_1mil.loc[700001:800000]\n",
    "df_9 = df_1mil.loc[800001:900000]\n",
    "df_10 = df_1mil.loc[900001:]"
   ]
  },
  {
   "cell_type": "code",
   "execution_count": null,
   "metadata": {},
   "outputs": [],
   "source": [
    "df_1 = process(df_1)\n",
    "df_1.to_csv('1mill_1_cleaned.csv')"
   ]
  },
  {
   "cell_type": "code",
   "execution_count": null,
   "metadata": {},
   "outputs": [],
   "source": [
    "df_2 = process(df_2)\n",
    "df_2.to_csv('1mill_2_cleaned.csv')"
   ]
  },
  {
   "cell_type": "code",
   "execution_count": null,
   "metadata": {},
   "outputs": [],
   "source": [
    "df_3 = process(df_3)\n",
    "df_3.to_csv('1mill_3_cleaned.csv')"
   ]
  },
  {
   "cell_type": "code",
   "execution_count": null,
   "metadata": {},
   "outputs": [],
   "source": [
    "df_4 = process(df_4)\n",
    "df_4.to_csv('1mill_4_cleaned.csv')"
   ]
  },
  {
   "cell_type": "code",
   "execution_count": null,
   "metadata": {},
   "outputs": [],
   "source": [
    "df_5 = process(df_5)\n",
    "df_5.to_csv('1mill_5_cleaned.csv')"
   ]
  },
  {
   "cell_type": "code",
   "execution_count": null,
   "metadata": {},
   "outputs": [],
   "source": [
    "df_6 = process(df_6)\n",
    "df_6.to_csv('1mill_6_cleaned.csv')"
   ]
  },
  {
   "cell_type": "code",
   "execution_count": null,
   "metadata": {},
   "outputs": [],
   "source": [
    "df_7 = process(df_7)\n",
    "df_7.to_csv('1mill_7_cleaned.csv')"
   ]
  },
  {
   "cell_type": "code",
   "execution_count": null,
   "metadata": {},
   "outputs": [],
   "source": [
    "df_8 = process(df_8)\n",
    "df_8.to_csv('1mill_8_cleaned.csv')"
   ]
  },
  {
   "cell_type": "code",
   "execution_count": null,
   "metadata": {},
   "outputs": [],
   "source": [
    "df_9 = process(df_9)\n",
    "df_9.to_csv('1mill_9_cleaned.csv')"
   ]
  },
  {
   "cell_type": "code",
   "execution_count": null,
   "metadata": {},
   "outputs": [],
   "source": [
    "df_10 = process(df_10)\n",
    "df_10.to_csv('1mill_10_cleaned.csv')"
   ]
  },
  {
   "cell_type": "code",
   "execution_count": null,
   "metadata": {},
   "outputs": [],
   "source": [
    "df_full_cleaned = pd.concat([df_1,df_2,df_3,df_4,df_5,df_6,df_7,df_8,df_9,df_10])\n",
    "df_full_cleaned.to_csv('1mill_cleaned.csv')"
   ]
  }
 ],
 "metadata": {
  "kernelspec": {
   "display_name": "Python 3.9.13 ('base': conda)",
   "language": "python",
   "name": "python3"
  },
  "language_info": {
   "codemirror_mode": {
    "name": "ipython",
    "version": 3
   },
   "file_extension": ".py",
   "mimetype": "text/x-python",
   "name": "python",
   "nbconvert_exporter": "python",
   "pygments_lexer": "ipython3",
   "version": "3.10.9"
  },
  "orig_nbformat": 4,
  "vscode": {
   "interpreter": {
    "hash": "5752aa9ab330d3759c83a1b34e6976ab41b98e9e7a9be5fc074dbcab196bea16"
   }
  }
 },
 "nbformat": 4,
 "nbformat_minor": 2
}
